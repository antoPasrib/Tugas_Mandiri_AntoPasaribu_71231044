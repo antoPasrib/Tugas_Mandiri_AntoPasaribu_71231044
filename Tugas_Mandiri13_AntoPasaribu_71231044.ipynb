{
 "cells": [
  {
   "cell_type": "code",
   "execution_count": null,
   "id": "20ca1676",
   "metadata": {},
   "outputs": [],
   "source": [
    "def cek_bilangan_prima(a, b = None):\n",
    "    if b is None:\n",
    "        b = a -1\n",
    "    while b >= 2:\n",
    "        if a % b == 0:\n",
    "            print('Bukan bilangan prima')\n",
    "            return False\n",
    "        else:\n",
    "            return cek_bilangan_prima(a, b - 1)\n",
    "    else:\n",
    "        print('Ini bilangan prima')\n",
    "        return True\n",
    "    \n",
    "a = int(input('Masukkan angka: '))\n",
    "cek_bilangan_prima(a)"
   ]
  },
  {
   "cell_type": "code",
   "execution_count": null,
   "id": "2f337d73",
   "metadata": {},
   "outputs": [],
   "source": [
    "def hitung(a1, b2):\n",
    "    if a1 > b2:\n",
    "        return 0\n",
    "    return a1 + hitung(a1 + 2, b2)\n",
    "\n",
    "a1 = 1\n",
    "b2 = int(input('Masukan limit bilangan (n): '))\n",
    "print('jumlah bilangan ganjil dalam rentang: ', hitung(a1,b2))"
   ]
  },
  {
   "cell_type": "code",
   "execution_count": null,
   "id": "4aaac3b5",
   "metadata": {},
   "outputs": [],
   "source": [
    "def jumlah_digit(a):\n",
    "    b = len(a) - 1\n",
    "    if b == 0:\n",
    "        return a\n",
    "    else:\n",
    "        c = int(a[-1])\n",
    "        a = a[:-1]\n",
    "        return c + int(jumlah_digit(a))\n",
    "    \n",
    "a = input('Masukan angka: ')\n",
    "print(jumlah_digit(a))"
   ]
  },
  {
   "cell_type": "code",
   "execution_count": null,
   "id": "d9e868ad",
   "metadata": {},
   "outputs": [],
   "source": [
    "def rekursif(a, b):\n",
    "    if(b == 0):\n",
    "        return 1\n",
    "    else:\n",
    "        int(a - b + 1)\n",
    "        return(rekursif(a, b - 1) * (a + b + 1))\n",
    "    \n",
    "def kombinasi(a, b):\n",
    "    if b == 0:\n",
    "        return 1\n",
    "    else:\n",
    "        int((a - b + 1) / b)\n",
    "        return(kombinasi(a, b - 1) * (  a - b + 1) / b)\n",
    "    \n",
    "a = int(input('Masukan nilai a: '))\n",
    "b = int(input('Masukan nilai b: '))\n",
    "\n",
    "rekursif(a, b)\n",
    "print(kombinasi(a, b))"
   ]
  },
  {
   "cell_type": "code",
   "execution_count": null,
   "id": "5d724cfb",
   "metadata": {},
   "outputs": [],
   "source": [
    "def palindrom(n):\n",
    "    if len(n) < 1:\n",
    "        return True\n",
    "    else:\n",
    "        if n[0] == n[-1]:\n",
    "            return palindrom(n[1:-1])\n",
    "        else:\n",
    "            return False\n",
    "        \n",
    "n = str(input('Masukan kata/angka: '))\n",
    "if(palindrom(n) == True):\n",
    "    print('Palindrom')\n",
    "else:\n",
    "    print('Bukan Palindrom')"
   ]
  }
 ],
 "metadata": {
  "kernelspec": {
   "display_name": "Python 3 (ipykernel)",
   "language": "python",
   "name": "python3"
  },
  "language_info": {
   "codemirror_mode": {
    "name": "ipython",
    "version": 3
   },
   "file_extension": ".py",
   "mimetype": "text/x-python",
   "name": "python",
   "nbconvert_exporter": "python",
   "pygments_lexer": "ipython3",
   "version": "3.11.5"
  }
 },
 "nbformat": 4,
 "nbformat_minor": 5
}
